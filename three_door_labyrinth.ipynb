{
 "cells": [
  {
   "cell_type": "code",
   "execution_count": 1,
   "metadata": {
    "scrolled": true
   },
   "outputs": [
    {
     "name": "stdout",
     "output_type": "stream",
     "text": [
      "\n",
      "Average time to get out of the labyrinth is 9.011 minutes.\n"
     ]
    }
   ],
   "source": [
    "import random\n",
    "\n",
    "doors = [0, 3, 6]\n",
    "simulation_results = []\n",
    "num_of_simulations = 100000\n",
    "\n",
    "def simulate_escape():\n",
    "    \"\"\"Run a single simulation of escape, opening doors until the '0' door is chosen.\"\"\"\n",
    "    time_in_labyrinth = 0\n",
    "    while True:\n",
    "        current_door = random.choice(doors)\n",
    "        if current_door == 0:\n",
    "            time_in_labyrinth += current_door\n",
    "            simulation_results.append(time_in_labyrinth)\n",
    "            break\n",
    "        else:\n",
    "            time_in_labyrinth += current_door \n",
    "\n",
    "# Run the simulation as many times as defined in 'num_of_simulations'.\n",
    "for i in range (num_of_simulations):\n",
    "    simulate_escape()\n",
    "\n",
    "# Calculate and show the average escape time, from all simulations.\n",
    "avg_escape_time = (sum(simulation_results)/num_of_simulations)\n",
    "# print(simulation_results)\n",
    "print()\n",
    "print(f\"Average time to get out of the labyrinth is {round(avg_escape_time, 3)} minutes.\")\n"
   ]
  }
 ],
 "metadata": {
  "kernelspec": {
   "display_name": "Python 3",
   "language": "python",
   "name": "python3"
  },
  "language_info": {
   "codemirror_mode": {
    "name": "ipython",
    "version": 3
   },
   "file_extension": ".py",
   "mimetype": "text/x-python",
   "name": "python",
   "nbconvert_exporter": "python",
   "pygments_lexer": "ipython3",
   "version": "3.8.5"
  }
 },
 "nbformat": 4,
 "nbformat_minor": 4
}
